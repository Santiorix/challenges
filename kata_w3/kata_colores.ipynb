{
 "cells": [
  {
   "cell_type": "code",
   "execution_count": 33,
   "id": "086e9d98",
   "metadata": {},
   "outputs": [],
   "source": [
    "def triangle(row):\n",
    "    if len(row) == 1:\n",
    "        return row\n",
    "    else:\n",
    "        temp = \"\"\n",
    "        for i in range(len(row)-1):\n",
    "            if i == len(row):\n",
    "                return row\n",
    "            elif row[i] == row[i+1]:\n",
    "                temp = temp + row[i]\n",
    "            elif row[i] in \"BG\" and row[i+1] in \"BG\":\n",
    "                temp = temp + \"R\"\n",
    "            elif row[i] in \"RG\" and row[i+1] in \"RG\":\n",
    "                temp = temp + \"B\"\n",
    "            elif row[i] in \"BR\" and row[i+1] in \"BR\":\n",
    "                temp = temp + \"G\"\n",
    "    return triangle(temp)\n",
    "    return None\n",
    "        "
   ]
  },
  {
   "cell_type": "code",
   "execution_count": null,
   "id": "58d5b607",
   "metadata": {},
   "outputs": [],
   "source": []
  },
  {
   "cell_type": "code",
   "execution_count": 34,
   "id": "f3034cbe",
   "metadata": {},
   "outputs": [
    {
     "data": {
      "text/plain": [
       "'R'"
      ]
     },
     "execution_count": 34,
     "metadata": {},
     "output_type": "execute_result"
    }
   ],
   "source": [
    "triangle(\"RGBGBRGBGR\")"
   ]
  },
  {
   "cell_type": "code",
   "execution_count": 36,
   "id": "8c270353",
   "metadata": {},
   "outputs": [
    {
     "data": {
      "text/plain": [
       "'R'"
      ]
     },
     "execution_count": 36,
     "metadata": {},
     "output_type": "execute_result"
    }
   ],
   "source": [
    "def triangle(row):\n",
    "    if len(row) == 1:\n",
    "        return (row)\n",
    "    else:\n",
    "        colors = \"\"\n",
    "        for i in range ()"
   ]
  }
 ],
 "metadata": {
  "kernelspec": {
   "display_name": "Python [conda env:ironhack]",
   "language": "python",
   "name": "conda-env-ironhack-py"
  },
  "language_info": {
   "codemirror_mode": {
    "name": "ipython",
    "version": 3
   },
   "file_extension": ".py",
   "mimetype": "text/x-python",
   "name": "python",
   "nbconvert_exporter": "python",
   "pygments_lexer": "ipython3",
   "version": "3.7.11"
  }
 },
 "nbformat": 4,
 "nbformat_minor": 5
}
