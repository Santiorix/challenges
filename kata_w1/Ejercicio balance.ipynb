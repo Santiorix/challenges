{
 "cells": [
  {
   "cell_type": "code",
   "execution_count": 43,
   "id": "954b1595",
   "metadata": {},
   "outputs": [
    {
     "data": {
      "text/plain": [
       "'645778224579'"
      ]
     },
     "execution_count": 43,
     "metadata": {},
     "output_type": "execute_result"
    }
   ],
   "source": [
    "number = 645778224579\n",
    "string_number = str(number)\n",
    "string_number"
   ]
  },
  {
   "cell_type": "code",
   "execution_count": 44,
   "id": "e7656b3b",
   "metadata": {},
   "outputs": [
    {
     "data": {
      "text/plain": [
       "'64'"
      ]
     },
     "execution_count": 44,
     "metadata": {},
     "output_type": "execute_result"
    }
   ],
   "source": [
    "left_string = string_number [0:2]\n",
    "left_string"
   ]
  },
  {
   "cell_type": "code",
   "execution_count": 45,
   "id": "bde52470",
   "metadata": {},
   "outputs": [
    {
     "data": {
      "text/plain": [
       "12"
      ]
     },
     "execution_count": 45,
     "metadata": {},
     "output_type": "execute_result"
    }
   ],
   "source": [
    "len(string_number)"
   ]
  },
  {
   "cell_type": "code",
   "execution_count": 46,
   "id": "34884b0a",
   "metadata": {},
   "outputs": [],
   "source": [
    "punto_medio = len (string_number)/2 -1\n",
    "punto_medio = int(punto_medio)"
   ]
  },
  {
   "cell_type": "code",
   "execution_count": 47,
   "id": "ae5d836e",
   "metadata": {},
   "outputs": [
    {
     "data": {
      "text/plain": [
       "'64577'"
      ]
     },
     "execution_count": 47,
     "metadata": {},
     "output_type": "execute_result"
    }
   ],
   "source": [
    "left_string = string_number[:punto_medio]\n",
    "left_string"
   ]
  },
  {
   "cell_type": "code",
   "execution_count": 48,
   "id": "dd37605d",
   "metadata": {},
   "outputs": [
    {
     "data": {
      "text/plain": [
       "'24579'"
      ]
     },
     "execution_count": 48,
     "metadata": {},
     "output_type": "execute_result"
    }
   ],
   "source": [
    "right_string = string_number [punto_medio + 2:]\n",
    "right_string"
   ]
  },
  {
   "cell_type": "code",
   "execution_count": 49,
   "id": "bd4445f9",
   "metadata": {},
   "outputs": [
    {
     "name": "stdout",
     "output_type": "stream",
     "text": [
      "29\n"
     ]
    }
   ],
   "source": [
    "suma_izquierda = 0\n",
    "for l in left_string:\n",
    "    suma_izquierda += int(l)\n",
    "print(suma_izquierda)"
   ]
  },
  {
   "cell_type": "code",
   "execution_count": 98,
   "id": "78d73be5",
   "metadata": {},
   "outputs": [
    {
     "name": "stdout",
     "output_type": "stream",
     "text": [
      "27\n"
     ]
    }
   ],
   "source": [
    "suma_derecha = 0\n",
    "for d in right_string:\n",
    "    suma_derecha += int(d)\n",
    "print (suma_derecha)"
   ]
  },
  {
   "cell_type": "code",
   "execution_count": 3,
   "id": "fa375828",
   "metadata": {},
   "outputs": [],
   "source": [
    "def balanced_num(number):\n",
    "    string_number = str(number) # Paso el número a string consiguiendo que sea comoo una lista\n",
    "    suma_izquierda = 0 # Creo una constante que pueda acumular la suma en los loops\n",
    "    suma_derecha = 0\n",
    "    if len(string_number) %2==0: #Compruebo si la catidad de dígitos de mi número es par\n",
    "        punto_medio = int(len(string_number)/2-1) #obtengo el punto medio para luego poder aislar la cadena por la izq y por la derecha\n",
    "        left_string = string_number[:punto_medio] #creo la cadena desde la posición cero hasta el punto medio \"al que ya le he quitado 1\"\n",
    "        right_string = string_number[punto_medio + 2:] #Creo la cadena dessde la posición del punto medio +2 por que los dos números de enmedio son el centro.\n",
    "        for l in left_string:#hacemos un for loop para sumar todos los dígitos de la parte izquierda\n",
    "            suma_izquierda +=  int(l) #y acumulamos el resultado en esta constante\n",
    "        for d in right_string: #lo mismo para la cadena derecha\n",
    "            suma_derecha += int(d)\n",
    "        if len(string_number)<=2: #creo este condicional para los números comprendidos entre 0 y 99 ya que siempre son balanced\n",
    "            return (\"Balanced\")\n",
    "        elif suma_izquierda==suma_derecha: \n",
    "            return(\"Balanced\")\n",
    "        elif suma_izquierda != suma_derecha:\n",
    "            return (\"Not Balanced\")\n",
    "    elif len(string_number)%2 != 0: #Compruebo si la cantidad de dígitos de mi número es impar\n",
    "        punto_medio = int(len(string_number)/2-0.5)\n",
    "        left_string = string_number[:punto_medio]\n",
    "        right_string = string_number[punto_medio + 1:]\n",
    "        for l in left_string:\n",
    "            suma_izquierda +=  int(l)\n",
    "        for d in right_string:\n",
    "            suma_derecha += int(d)\n",
    "        if len(string_number)<=2:\n",
    "            return (\"Balanced\")\n",
    "        elif suma_izquierda==suma_derecha:\n",
    "            return(\"Balanced\")\n",
    "        elif suma_izquierda != suma_derecha:\n",
    "            return (\"Not Balanced\")"
   ]
  },
  {
   "cell_type": "code",
   "execution_count": 4,
   "id": "57e53ba2",
   "metadata": {},
   "outputs": [
    {
     "data": {
      "text/plain": [
       "'Not Balanced'"
      ]
     },
     "execution_count": 4,
     "metadata": {},
     "output_type": "execute_result"
    }
   ],
   "source": [
    "balanced_num (1230987)"
   ]
  },
  {
   "cell_type": "code",
   "execution_count": 6,
   "id": "a2bd5095",
   "metadata": {},
   "outputs": [
    {
     "data": {
      "text/plain": [
       "'Balanced'"
      ]
     },
     "execution_count": 6,
     "metadata": {},
     "output_type": "execute_result"
    }
   ],
   "source": [
    "balanced_num (-1)"
   ]
  },
  {
   "cell_type": "code",
   "execution_count": null,
   "id": "2cba3847",
   "metadata": {},
   "outputs": [],
   "source": []
  }
 ],
 "metadata": {
  "kernelspec": {
   "display_name": "Python 3",
   "language": "python",
   "name": "python3"
  },
  "language_info": {
   "codemirror_mode": {
    "name": "ipython",
    "version": 3
   },
   "file_extension": ".py",
   "mimetype": "text/x-python",
   "name": "python",
   "nbconvert_exporter": "python",
   "pygments_lexer": "ipython3",
   "version": "3.8.8"
  }
 },
 "nbformat": 4,
 "nbformat_minor": 5
}
